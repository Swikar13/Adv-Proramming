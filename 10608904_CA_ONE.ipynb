{
  "nbformat": 4,
  "nbformat_minor": 0,
  "metadata": {
    "colab": {
      "provenance": [],
      "authorship_tag": "ABX9TyOG6JFvnMGIIFQZABas35kp",
      "include_colab_link": true
    },
    "kernelspec": {
      "name": "python3",
      "display_name": "Python 3"
    },
    "language_info": {
      "name": "python"
    }
  },
  "cells": [
    {
      "cell_type": "markdown",
      "metadata": {
        "id": "view-in-github",
        "colab_type": "text"
      },
      "source": [
        "<a href=\"https://colab.research.google.com/github/Swikar13/Adv-Proramming/blob/main/10608904_CA_ONE.ipynb\" target=\"_parent\"><img src=\"https://colab.research.google.com/assets/colab-badge.svg\" alt=\"Open In Colab\"/></a>"
      ]
    },
    {
      "cell_type": "code",
      "execution_count": 16,
      "metadata": {
        "id": "XFFd9j3nfjX6"
      },
      "outputs": [],
      "source": [
        "class Employee:\n",
        "  def _init_(self, name, weeklyhours, rate, overtimeRate, weeklytaxcredit):\n",
        "    self.name = name\n",
        "    self.weeklyhours = weeklyhours\n",
        "    self.rate = rate\n",
        "    self.overtimeRate = overtimeRate\n",
        "    self.weeklytaxcredit = weeklytaxcredit\n",
        "\n",
        "def computeWeeklyPay(self, hours):\n",
        "  grosspay = 0\n",
        "  if hours > self.weeklyhours:\n",
        "   self.weeklytaxcredit = hours - self.weeklyhours\n",
        "  else:\n",
        "    self.weeklytaxcredit = self.weeklyhours - hours\n",
        "    weeklytaxcredit *= self.overtimeRate\n",
        "    grosspay += (self.rate * self.weeklyhours) + weeklytaxcredit\n",
        "\n",
        "\n",
        "\n",
        "\n",
        "  \n",
        "\n",
        "\n",
        "\n",
        "\n",
        "\n"
      ]
    }
  ]
}