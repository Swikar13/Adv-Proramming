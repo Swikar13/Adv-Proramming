{
  "nbformat": 4,
  "nbformat_minor": 0,
  "metadata": {
    "colab": {
      "provenance": [],
      "authorship_tag": "ABX9TyOoXvZiG+OQozTBEtvMEeC+",
      "include_colab_link": true
    },
    "kernelspec": {
      "name": "python3",
      "display_name": "Python 3"
    },
    "language_info": {
      "name": "python"
    }
  },
  "cells": [
    {
      "cell_type": "markdown",
      "metadata": {
        "id": "view-in-github",
        "colab_type": "text"
      },
      "source": [
        "<a href=\"https://colab.research.google.com/github/Swikar13/Adv-Proramming/blob/main/10608904_CA_ONE.ipynb\" target=\"_parent\"><img src=\"https://colab.research.google.com/assets/colab-badge.svg\" alt=\"Open In Colab\"/></a>"
      ]
    },
    {
      "cell_type": "code",
      "execution_count": 5,
      "metadata": {
        "id": "XFFd9j3nfjX6"
      },
      "outputs": [],
      "source": [
        "class Employee:\n",
        "  def _init_(self, name, weeklyhours, rate, overtimeRate, weeklytaxcredit):\n",
        "    self.name = name\n",
        "    self.weeklyhours = weeklyhours\n",
        "    self.rate = rate\n",
        "    self.overtimeRate = overtimeRate\n",
        "    self.weeklytaxcredit = weeklytaxcredit\n",
        "\n",
        "def computeWeeklyPay(p, rate):\n",
        "  if p <= 40:\n",
        "    gross_pay = p * rate\n",
        "    return gross_pay\n",
        "\n",
        "  elif p > 40:\n",
        "     gross_pay = 40 * rate + (p - 40) * (rate * 1.5)\n",
        "     return gross_pay\n",
        "\n",
        "\n",
        "\n",
        "\n"
      ]
    }
  ]
}